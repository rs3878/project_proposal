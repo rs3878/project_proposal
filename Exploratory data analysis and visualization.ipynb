{
 "cells": [
  {
   "cell_type": "code",
   "execution_count": 2,
   "metadata": {},
   "outputs": [],
   "source": [
    "import pandas as pd\n",
    "import numpy as np\n",
    "import seaborn as sns\n",
    "sns.set(rc={'figure.figsize':(17.7,8.27)})\n",
    "import matplotlib.pyplot as plt"
   ]
  },
  {
   "cell_type": "code",
   "execution_count": 3,
   "metadata": {},
   "outputs": [
    {
     "name": "stderr",
     "output_type": "stream",
     "text": [
      "/Users/roxanne/anaconda3/lib/python3.6/site-packages/IPython/core/interactiveshell.py:3049: DtypeWarning: Columns (9,10) have mixed types. Specify dtype option on import or set low_memory=False.\n",
      "  interactivity=interactivity, compiler=compiler, result=result)\n"
     ]
    }
   ],
   "source": [
    "data = pd.read_csv(\"temp_datalab_records_linkedin_company.csv\")#, nrows = 999999)"
   ]
  },
  {
   "cell_type": "code",
   "execution_count": 120,
   "metadata": {},
   "outputs": [
    {
     "data": {
      "text/html": [
       "<div>\n",
       "<style scoped>\n",
       "    .dataframe tbody tr th:only-of-type {\n",
       "        vertical-align: middle;\n",
       "    }\n",
       "\n",
       "    .dataframe tbody tr th {\n",
       "        vertical-align: top;\n",
       "    }\n",
       "\n",
       "    .dataframe thead th {\n",
       "        text-align: right;\n",
       "    }\n",
       "</style>\n",
       "<table border=\"1\" class=\"dataframe\">\n",
       "  <thead>\n",
       "    <tr style=\"text-align: right;\">\n",
       "      <th></th>\n",
       "      <th>dataset_id</th>\n",
       "      <th>as_of_date</th>\n",
       "      <th>company_name</th>\n",
       "      <th>followers_count</th>\n",
       "      <th>employees_on_platform</th>\n",
       "      <th>link</th>\n",
       "      <th>industry</th>\n",
       "      <th>date_added</th>\n",
       "      <th>date_updated</th>\n",
       "      <th>description</th>\n",
       "      <th>website</th>\n",
       "      <th>entity_id</th>\n",
       "      <th>cusip</th>\n",
       "      <th>isin</th>\n",
       "    </tr>\n",
       "  </thead>\n",
       "  <tbody>\n",
       "    <tr>\n",
       "      <th>0</th>\n",
       "      <td>58329</td>\n",
       "      <td>2015-09-14</td>\n",
       "      <td>Goldman Sachs</td>\n",
       "      <td>552254</td>\n",
       "      <td>38124</td>\n",
       "      <td>https://www.linkedin.com/company/1382</td>\n",
       "      <td>Investment Banking</td>\n",
       "      <td>2015-09-14 00:00:00+00</td>\n",
       "      <td>2015-09-14 00:00:00+00</td>\n",
       "      <td>NaN</td>\n",
       "      <td>NaN</td>\n",
       "      <td>NaN</td>\n",
       "      <td>NaN</td>\n",
       "      <td>NaN</td>\n",
       "    </tr>\n",
       "    <tr>\n",
       "      <th>1</th>\n",
       "      <td>58329</td>\n",
       "      <td>2015-09-15</td>\n",
       "      <td>Goldman Sachs</td>\n",
       "      <td>552862</td>\n",
       "      <td>38141</td>\n",
       "      <td>https://www.linkedin.com/company/1382</td>\n",
       "      <td>Investment Banking</td>\n",
       "      <td>2015-09-15 00:00:00+00</td>\n",
       "      <td>2015-09-15 00:00:00+00</td>\n",
       "      <td>NaN</td>\n",
       "      <td>NaN</td>\n",
       "      <td>NaN</td>\n",
       "      <td>NaN</td>\n",
       "      <td>NaN</td>\n",
       "    </tr>\n",
       "    <tr>\n",
       "      <th>2</th>\n",
       "      <td>58363</td>\n",
       "      <td>2015-09-16</td>\n",
       "      <td>United Technologies</td>\n",
       "      <td>59157</td>\n",
       "      <td>14982</td>\n",
       "      <td>https://www.linkedin.com/company/2426</td>\n",
       "      <td>Aviation &amp; Aerospace</td>\n",
       "      <td>2015-09-16 00:00:00+00</td>\n",
       "      <td>2015-09-16 00:00:00+00</td>\n",
       "      <td>NaN</td>\n",
       "      <td>NaN</td>\n",
       "      <td>NaN</td>\n",
       "      <td>NaN</td>\n",
       "      <td>NaN</td>\n",
       "    </tr>\n",
       "    <tr>\n",
       "      <th>3</th>\n",
       "      <td>58366</td>\n",
       "      <td>2015-09-16</td>\n",
       "      <td>Novo Nordisk</td>\n",
       "      <td>336175</td>\n",
       "      <td>26448</td>\n",
       "      <td>https://www.linkedin.com/company/2227</td>\n",
       "      <td>Pharmaceuticals</td>\n",
       "      <td>2015-09-16 00:00:00+00</td>\n",
       "      <td>2015-09-16 00:00:00+00</td>\n",
       "      <td>NaN</td>\n",
       "      <td>NaN</td>\n",
       "      <td>NaN</td>\n",
       "      <td>NaN</td>\n",
       "      <td>NaN</td>\n",
       "    </tr>\n",
       "    <tr>\n",
       "      <th>4</th>\n",
       "      <td>58371</td>\n",
       "      <td>2015-09-16</td>\n",
       "      <td>Lowe's Companies, Inc.</td>\n",
       "      <td>134255</td>\n",
       "      <td>62574</td>\n",
       "      <td>https://www.linkedin.com/company/4128</td>\n",
       "      <td>Retail</td>\n",
       "      <td>2015-09-16 00:00:00+00</td>\n",
       "      <td>2015-09-16 00:00:00+00</td>\n",
       "      <td>NaN</td>\n",
       "      <td>NaN</td>\n",
       "      <td>NaN</td>\n",
       "      <td>NaN</td>\n",
       "      <td>NaN</td>\n",
       "    </tr>\n",
       "    <tr>\n",
       "      <th>5</th>\n",
       "      <td>58382</td>\n",
       "      <td>2015-09-16</td>\n",
       "      <td>UnitedHealth Group</td>\n",
       "      <td>221288</td>\n",
       "      <td>77108</td>\n",
       "      <td>https://www.linkedin.com/company/1720</td>\n",
       "      <td>Hospital &amp; Health Care</td>\n",
       "      <td>2015-09-16 00:00:00+00</td>\n",
       "      <td>2015-09-16 00:00:00+00</td>\n",
       "      <td>NaN</td>\n",
       "      <td>NaN</td>\n",
       "      <td>NaN</td>\n",
       "      <td>NaN</td>\n",
       "      <td>NaN</td>\n",
       "    </tr>\n",
       "    <tr>\n",
       "      <th>6</th>\n",
       "      <td>58400</td>\n",
       "      <td>2015-09-16</td>\n",
       "      <td>McKesson</td>\n",
       "      <td>128090</td>\n",
       "      <td>17520</td>\n",
       "      <td>https://www.linkedin.com/company/1900</td>\n",
       "      <td>Hospital &amp; Health Care</td>\n",
       "      <td>2015-09-16 00:00:00+00</td>\n",
       "      <td>2015-09-16 00:00:00+00</td>\n",
       "      <td>NaN</td>\n",
       "      <td>NaN</td>\n",
       "      <td>NaN</td>\n",
       "      <td>NaN</td>\n",
       "      <td>NaN</td>\n",
       "    </tr>\n",
       "    <tr>\n",
       "      <th>7</th>\n",
       "      <td>58433</td>\n",
       "      <td>2015-09-16</td>\n",
       "      <td>BBVA</td>\n",
       "      <td>109420</td>\n",
       "      <td>40933</td>\n",
       "      <td>https://www.linkedin.com/company/4860</td>\n",
       "      <td>Banking</td>\n",
       "      <td>2015-09-16 00:00:00+00</td>\n",
       "      <td>2015-09-16 00:00:00+00</td>\n",
       "      <td>NaN</td>\n",
       "      <td>NaN</td>\n",
       "      <td>NaN</td>\n",
       "      <td>NaN</td>\n",
       "      <td>NaN</td>\n",
       "    </tr>\n",
       "    <tr>\n",
       "      <th>8</th>\n",
       "      <td>58434</td>\n",
       "      <td>2015-09-16</td>\n",
       "      <td>IBM</td>\n",
       "      <td>2542182</td>\n",
       "      <td>414139</td>\n",
       "      <td>https://www.linkedin.com/company/1009</td>\n",
       "      <td>Information Technology and Services</td>\n",
       "      <td>2015-09-16 00:00:00+00</td>\n",
       "      <td>2015-09-16 00:00:00+00</td>\n",
       "      <td>NaN</td>\n",
       "      <td>NaN</td>\n",
       "      <td>NaN</td>\n",
       "      <td>NaN</td>\n",
       "      <td>NaN</td>\n",
       "    </tr>\n",
       "    <tr>\n",
       "      <th>9</th>\n",
       "      <td>58401</td>\n",
       "      <td>2015-09-16</td>\n",
       "      <td>MasterCard</td>\n",
       "      <td>147619</td>\n",
       "      <td>9658</td>\n",
       "      <td>https://www.linkedin.com/company/3015</td>\n",
       "      <td>Information Technology and Services</td>\n",
       "      <td>2015-09-16 00:00:00+00</td>\n",
       "      <td>2015-09-16 00:00:00+00</td>\n",
       "      <td>NaN</td>\n",
       "      <td>NaN</td>\n",
       "      <td>NaN</td>\n",
       "      <td>NaN</td>\n",
       "      <td>NaN</td>\n",
       "    </tr>\n",
       "  </tbody>\n",
       "</table>\n",
       "</div>"
      ],
      "text/plain": [
       "   dataset_id as_of_date            company_name  followers_count  \\\n",
       "0       58329 2015-09-14           Goldman Sachs           552254   \n",
       "1       58329 2015-09-15           Goldman Sachs           552862   \n",
       "2       58363 2015-09-16     United Technologies            59157   \n",
       "3       58366 2015-09-16            Novo Nordisk           336175   \n",
       "4       58371 2015-09-16  Lowe's Companies, Inc.           134255   \n",
       "5       58382 2015-09-16      UnitedHealth Group           221288   \n",
       "6       58400 2015-09-16                McKesson           128090   \n",
       "7       58433 2015-09-16                    BBVA           109420   \n",
       "8       58434 2015-09-16                     IBM          2542182   \n",
       "9       58401 2015-09-16              MasterCard           147619   \n",
       "\n",
       "   employees_on_platform                                   link  \\\n",
       "0                  38124  https://www.linkedin.com/company/1382   \n",
       "1                  38141  https://www.linkedin.com/company/1382   \n",
       "2                  14982  https://www.linkedin.com/company/2426   \n",
       "3                  26448  https://www.linkedin.com/company/2227   \n",
       "4                  62574  https://www.linkedin.com/company/4128   \n",
       "5                  77108  https://www.linkedin.com/company/1720   \n",
       "6                  17520  https://www.linkedin.com/company/1900   \n",
       "7                  40933  https://www.linkedin.com/company/4860   \n",
       "8                 414139  https://www.linkedin.com/company/1009   \n",
       "9                   9658  https://www.linkedin.com/company/3015   \n",
       "\n",
       "                              industry              date_added  \\\n",
       "0                   Investment Banking  2015-09-14 00:00:00+00   \n",
       "1                   Investment Banking  2015-09-15 00:00:00+00   \n",
       "2                 Aviation & Aerospace  2015-09-16 00:00:00+00   \n",
       "3                      Pharmaceuticals  2015-09-16 00:00:00+00   \n",
       "4                               Retail  2015-09-16 00:00:00+00   \n",
       "5               Hospital & Health Care  2015-09-16 00:00:00+00   \n",
       "6               Hospital & Health Care  2015-09-16 00:00:00+00   \n",
       "7                              Banking  2015-09-16 00:00:00+00   \n",
       "8  Information Technology and Services  2015-09-16 00:00:00+00   \n",
       "9  Information Technology and Services  2015-09-16 00:00:00+00   \n",
       "\n",
       "             date_updated description website  entity_id  cusip  isin  \n",
       "0  2015-09-14 00:00:00+00         NaN     NaN        NaN    NaN   NaN  \n",
       "1  2015-09-15 00:00:00+00         NaN     NaN        NaN    NaN   NaN  \n",
       "2  2015-09-16 00:00:00+00         NaN     NaN        NaN    NaN   NaN  \n",
       "3  2015-09-16 00:00:00+00         NaN     NaN        NaN    NaN   NaN  \n",
       "4  2015-09-16 00:00:00+00         NaN     NaN        NaN    NaN   NaN  \n",
       "5  2015-09-16 00:00:00+00         NaN     NaN        NaN    NaN   NaN  \n",
       "6  2015-09-16 00:00:00+00         NaN     NaN        NaN    NaN   NaN  \n",
       "7  2015-09-16 00:00:00+00         NaN     NaN        NaN    NaN   NaN  \n",
       "8  2015-09-16 00:00:00+00         NaN     NaN        NaN    NaN   NaN  \n",
       "9  2015-09-16 00:00:00+00         NaN     NaN        NaN    NaN   NaN  "
      ]
     },
     "execution_count": 120,
     "metadata": {},
     "output_type": "execute_result"
    }
   ],
   "source": [
    "data.head(10)"
   ]
  },
  {
   "cell_type": "code",
   "execution_count": 147,
   "metadata": {},
   "outputs": [
    {
     "data": {
      "text/html": [
       "<div>\n",
       "<style scoped>\n",
       "    .dataframe tbody tr th:only-of-type {\n",
       "        vertical-align: middle;\n",
       "    }\n",
       "\n",
       "    .dataframe tbody tr th {\n",
       "        vertical-align: top;\n",
       "    }\n",
       "\n",
       "    .dataframe thead th {\n",
       "        text-align: right;\n",
       "    }\n",
       "</style>\n",
       "<table border=\"1\" class=\"dataframe\">\n",
       "  <thead>\n",
       "    <tr style=\"text-align: right;\">\n",
       "      <th></th>\n",
       "      <th>dataset_id</th>\n",
       "      <th>as_of_date</th>\n",
       "      <th>company_name</th>\n",
       "      <th>followers_count</th>\n",
       "      <th>employees_on_platform</th>\n",
       "      <th>link</th>\n",
       "      <th>industry</th>\n",
       "      <th>date_added</th>\n",
       "      <th>date_updated</th>\n",
       "      <th>description</th>\n",
       "      <th>website</th>\n",
       "      <th>entity_id</th>\n",
       "      <th>cusip</th>\n",
       "      <th>isin</th>\n",
       "    </tr>\n",
       "  </thead>\n",
       "  <tbody>\n",
       "    <tr>\n",
       "      <th>2421208</th>\n",
       "      <td>902185</td>\n",
       "      <td>2018-07-16</td>\n",
       "      <td>Control4</td>\n",
       "      <td>16113</td>\n",
       "      <td>606</td>\n",
       "      <td>https://www.linkedin.com/company/16852</td>\n",
       "      <td>Consumer Electronics</td>\n",
       "      <td>2018-07-16 17:56:05.350603+00</td>\n",
       "      <td>2018-07-16 17:56:05.350651+00</td>\n",
       "      <td>NaN</td>\n",
       "      <td>http://www.control4.com/</td>\n",
       "      <td>NaN</td>\n",
       "      <td>NaN</td>\n",
       "      <td>NaN</td>\n",
       "    </tr>\n",
       "    <tr>\n",
       "      <th>1676087</th>\n",
       "      <td>1340748</td>\n",
       "      <td>2018-01-04</td>\n",
       "      <td>Blue Apron</td>\n",
       "      <td>23269</td>\n",
       "      <td>1485</td>\n",
       "      <td>https://www.linkedin.com/company/2866858</td>\n",
       "      <td>Food &amp; Beverages</td>\n",
       "      <td>2018-01-04 13:09:30.519982+00</td>\n",
       "      <td>2018-01-04 13:09:30.520029+00</td>\n",
       "      <td>NaN</td>\n",
       "      <td>NaN</td>\n",
       "      <td>NaN</td>\n",
       "      <td>NaN</td>\n",
       "      <td>NaN</td>\n",
       "    </tr>\n",
       "    <tr>\n",
       "      <th>547395</th>\n",
       "      <td>58451</td>\n",
       "      <td>2017-02-18</td>\n",
       "      <td>Duke Energy Corporation</td>\n",
       "      <td>115985</td>\n",
       "      <td>19708</td>\n",
       "      <td>https://www.linkedin.com/company/4066</td>\n",
       "      <td>Utilities</td>\n",
       "      <td>2017-02-18 05:40:24.739151+00</td>\n",
       "      <td>2017-02-18 05:40:24.739203+00</td>\n",
       "      <td>NaN</td>\n",
       "      <td>NaN</td>\n",
       "      <td>NaN</td>\n",
       "      <td>NaN</td>\n",
       "      <td>NaN</td>\n",
       "    </tr>\n",
       "    <tr>\n",
       "      <th>686827</th>\n",
       "      <td>897961</td>\n",
       "      <td>2017-04-05</td>\n",
       "      <td>BBX Capital Corporation</td>\n",
       "      <td>582</td>\n",
       "      <td>45</td>\n",
       "      <td>https://www.linkedin.com/company/3100463</td>\n",
       "      <td>Financial Services</td>\n",
       "      <td>2017-04-05 02:50:27.522707+00</td>\n",
       "      <td>2017-04-05 02:50:27.522766+00</td>\n",
       "      <td>NaN</td>\n",
       "      <td>NaN</td>\n",
       "      <td>NaN</td>\n",
       "      <td>NaN</td>\n",
       "      <td>NaN</td>\n",
       "    </tr>\n",
       "    <tr>\n",
       "      <th>754827</th>\n",
       "      <td>924856</td>\n",
       "      <td>2017-04-26</td>\n",
       "      <td>PDF Solutions</td>\n",
       "      <td>2090</td>\n",
       "      <td>425</td>\n",
       "      <td>https://www.linkedin.com/company/12658</td>\n",
       "      <td>Semiconductors</td>\n",
       "      <td>2017-04-26 02:46:45.371737+00</td>\n",
       "      <td>2017-04-26 02:46:45.371781+00</td>\n",
       "      <td>NaN</td>\n",
       "      <td>NaN</td>\n",
       "      <td>NaN</td>\n",
       "      <td>NaN</td>\n",
       "      <td>NaN</td>\n",
       "    </tr>\n",
       "    <tr>\n",
       "      <th>2079357</th>\n",
       "      <td>58806</td>\n",
       "      <td>2018-04-15</td>\n",
       "      <td>Atossa Genetics, Inc.</td>\n",
       "      <td>944</td>\n",
       "      <td>17</td>\n",
       "      <td>https://www.linkedin.com/company/702244</td>\n",
       "      <td>Biotechnology</td>\n",
       "      <td>2018-04-15 02:21:36.358574+00</td>\n",
       "      <td>2018-04-15 02:21:36.358618+00</td>\n",
       "      <td>NaN</td>\n",
       "      <td>http://www.atossagenetics.com</td>\n",
       "      <td>NaN</td>\n",
       "      <td>NaN</td>\n",
       "      <td>NaN</td>\n",
       "    </tr>\n",
       "    <tr>\n",
       "      <th>1944033</th>\n",
       "      <td>903041</td>\n",
       "      <td>2018-03-09</td>\n",
       "      <td>Exact Sciences</td>\n",
       "      <td>9013</td>\n",
       "      <td>1027</td>\n",
       "      <td>https://www.linkedin.com/company/48835</td>\n",
       "      <td>Biotechnology</td>\n",
       "      <td>2018-03-09 14:49:38.564569+00</td>\n",
       "      <td>2018-03-09 14:49:38.564621+00</td>\n",
       "      <td>NaN</td>\n",
       "      <td>http://exactsciences.com</td>\n",
       "      <td>NaN</td>\n",
       "      <td>NaN</td>\n",
       "      <td>NaN</td>\n",
       "    </tr>\n",
       "    <tr>\n",
       "      <th>1473521</th>\n",
       "      <td>868922</td>\n",
       "      <td>2017-11-18</td>\n",
       "      <td>Waste Connections, Inc.</td>\n",
       "      <td>9215</td>\n",
       "      <td>1956</td>\n",
       "      <td>https://www.linkedin.com/company/66006</td>\n",
       "      <td>Environmental Services</td>\n",
       "      <td>2017-11-18 05:00:28.531344+00</td>\n",
       "      <td>2017-11-18 05:00:28.531384+00</td>\n",
       "      <td>NaN</td>\n",
       "      <td>NaN</td>\n",
       "      <td>NaN</td>\n",
       "      <td>NaN</td>\n",
       "      <td>NaN</td>\n",
       "    </tr>\n",
       "    <tr>\n",
       "      <th>240199</th>\n",
       "      <td>59063</td>\n",
       "      <td>2016-09-17</td>\n",
       "      <td>Avnet</td>\n",
       "      <td>32868</td>\n",
       "      <td>11321</td>\n",
       "      <td>https://www.linkedin.com/company/2572</td>\n",
       "      <td>Information Technology and Services</td>\n",
       "      <td>2016-09-17 00:00:00+00</td>\n",
       "      <td>2016-09-17 00:00:00+00</td>\n",
       "      <td>NaN</td>\n",
       "      <td>NaN</td>\n",
       "      <td>NaN</td>\n",
       "      <td>NaN</td>\n",
       "      <td>NaN</td>\n",
       "    </tr>\n",
       "    <tr>\n",
       "      <th>80584</th>\n",
       "      <td>58393</td>\n",
       "      <td>2016-02-08</td>\n",
       "      <td>Qualcomm</td>\n",
       "      <td>233670</td>\n",
       "      <td>28066</td>\n",
       "      <td>https://www.linkedin.com/company/2017</td>\n",
       "      <td>NaN</td>\n",
       "      <td>2016-02-08 00:00:00+00</td>\n",
       "      <td>2016-02-08 00:00:00+00</td>\n",
       "      <td>NaN</td>\n",
       "      <td>NaN</td>\n",
       "      <td>NaN</td>\n",
       "      <td>NaN</td>\n",
       "      <td>NaN</td>\n",
       "    </tr>\n",
       "  </tbody>\n",
       "</table>\n",
       "</div>"
      ],
      "text/plain": [
       "         dataset_id as_of_date             company_name  followers_count  \\\n",
       "2421208      902185 2018-07-16                 Control4            16113   \n",
       "1676087     1340748 2018-01-04               Blue Apron            23269   \n",
       "547395        58451 2017-02-18  Duke Energy Corporation           115985   \n",
       "686827       897961 2017-04-05  BBX Capital Corporation              582   \n",
       "754827       924856 2017-04-26            PDF Solutions             2090   \n",
       "2079357       58806 2018-04-15    Atossa Genetics, Inc.              944   \n",
       "1944033      903041 2018-03-09           Exact Sciences             9013   \n",
       "1473521      868922 2017-11-18  Waste Connections, Inc.             9215   \n",
       "240199        59063 2016-09-17                    Avnet            32868   \n",
       "80584         58393 2016-02-08                 Qualcomm           233670   \n",
       "\n",
       "         employees_on_platform                                      link  \\\n",
       "2421208                    606    https://www.linkedin.com/company/16852   \n",
       "1676087                   1485  https://www.linkedin.com/company/2866858   \n",
       "547395                   19708     https://www.linkedin.com/company/4066   \n",
       "686827                      45  https://www.linkedin.com/company/3100463   \n",
       "754827                     425    https://www.linkedin.com/company/12658   \n",
       "2079357                     17   https://www.linkedin.com/company/702244   \n",
       "1944033                   1027    https://www.linkedin.com/company/48835   \n",
       "1473521                   1956    https://www.linkedin.com/company/66006   \n",
       "240199                   11321     https://www.linkedin.com/company/2572   \n",
       "80584                    28066     https://www.linkedin.com/company/2017   \n",
       "\n",
       "                                    industry                     date_added  \\\n",
       "2421208                 Consumer Electronics  2018-07-16 17:56:05.350603+00   \n",
       "1676087                     Food & Beverages  2018-01-04 13:09:30.519982+00   \n",
       "547395                             Utilities  2017-02-18 05:40:24.739151+00   \n",
       "686827                    Financial Services  2017-04-05 02:50:27.522707+00   \n",
       "754827                        Semiconductors  2017-04-26 02:46:45.371737+00   \n",
       "2079357                        Biotechnology  2018-04-15 02:21:36.358574+00   \n",
       "1944033                        Biotechnology  2018-03-09 14:49:38.564569+00   \n",
       "1473521               Environmental Services  2017-11-18 05:00:28.531344+00   \n",
       "240199   Information Technology and Services         2016-09-17 00:00:00+00   \n",
       "80584                                    NaN         2016-02-08 00:00:00+00   \n",
       "\n",
       "                          date_updated description  \\\n",
       "2421208  2018-07-16 17:56:05.350651+00         NaN   \n",
       "1676087  2018-01-04 13:09:30.520029+00         NaN   \n",
       "547395   2017-02-18 05:40:24.739203+00         NaN   \n",
       "686827   2017-04-05 02:50:27.522766+00         NaN   \n",
       "754827   2017-04-26 02:46:45.371781+00         NaN   \n",
       "2079357  2018-04-15 02:21:36.358618+00         NaN   \n",
       "1944033  2018-03-09 14:49:38.564621+00         NaN   \n",
       "1473521  2017-11-18 05:00:28.531384+00         NaN   \n",
       "240199          2016-09-17 00:00:00+00         NaN   \n",
       "80584           2016-02-08 00:00:00+00         NaN   \n",
       "\n",
       "                               website  entity_id  cusip  isin  \n",
       "2421208       http://www.control4.com/        NaN    NaN   NaN  \n",
       "1676087                            NaN        NaN    NaN   NaN  \n",
       "547395                             NaN        NaN    NaN   NaN  \n",
       "686827                             NaN        NaN    NaN   NaN  \n",
       "754827                             NaN        NaN    NaN   NaN  \n",
       "2079357  http://www.atossagenetics.com        NaN    NaN   NaN  \n",
       "1944033       http://exactsciences.com        NaN    NaN   NaN  \n",
       "1473521                            NaN        NaN    NaN   NaN  \n",
       "240199                             NaN        NaN    NaN   NaN  \n",
       "80584                              NaN        NaN    NaN   NaN  "
      ]
     },
     "execution_count": 147,
     "metadata": {},
     "output_type": "execute_result"
    }
   ],
   "source": [
    "data.sample(10)"
   ]
  },
  {
   "cell_type": "code",
   "execution_count": 70,
   "metadata": {},
   "outputs": [
    {
     "name": "stdout",
     "output_type": "stream",
     "text": [
      "<class 'pandas.core.frame.DataFrame'>\n",
      "RangeIndex: 2426196 entries, 0 to 2426195\n",
      "Data columns (total 14 columns):\n",
      "dataset_id               int64\n",
      "as_of_date               object\n",
      "company_name             object\n",
      "followers_count          int64\n",
      "employees_on_platform    int64\n",
      "link                     object\n",
      "industry                 object\n",
      "date_added               object\n",
      "date_updated             object\n",
      "description              object\n",
      "website                  object\n",
      "entity_id                float64\n",
      "cusip                    float64\n",
      "isin                     float64\n",
      "dtypes: float64(3), int64(3), object(8)\n",
      "memory usage: 259.1+ MB\n"
     ]
    }
   ],
   "source": [
    "data.info()"
   ]
  },
  {
   "cell_type": "code",
   "execution_count": 71,
   "metadata": {},
   "outputs": [],
   "source": [
    "data.as_of_date = data.as_of_date.astype(\"datetime64\")"
   ]
  },
  {
   "cell_type": "code",
   "execution_count": 74,
   "metadata": {},
   "outputs": [
    {
     "data": {
      "text/plain": [
       "(Timestamp('2015-09-14 00:00:00'),\n",
       " Timestamp('2018-07-17 00:00:00'),\n",
       " Timedelta('1037 days 00:00:00'))"
      ]
     },
     "execution_count": 74,
     "metadata": {},
     "output_type": "execute_result"
    }
   ],
   "source": [
    "min(data.as_of_date),max(data.as_of_date),max(data.as_of_date)-min(data.as_of_date)"
   ]
  },
  {
   "cell_type": "markdown",
   "metadata": {},
   "source": [
    "#### Find the industries that have the most records"
   ]
  },
  {
   "cell_type": "code",
   "execution_count": 170,
   "metadata": {},
   "outputs": [
    {
     "data": {
      "text/plain": [
       "<matplotlib.axes._subplots.AxesSubplot at 0x1a2f2be5f8>"
      ]
     },
     "execution_count": 170,
     "metadata": {},
     "output_type": "execute_result"
    },
    {
     "data": {
      "image/png": "[encoded data removed]",
      "text/plain": [
       "<Figure size 1274.4x595.44 with 1 Axes>"
      ]
     },
     "metadata": {},
     "output_type": "display_data"
    }
   ],
   "source": [
    "industry = data.groupby(['industry','company_name'])['as_of_date'].max().to_frame().reset_index('company_name')\n",
    "industry = industry.groupby('industry')['company_name'].count().sort_values()\n",
    "x = industry.index.values[-10:]\n",
    "x[5] = 'Info Tech' # abbreviate to make sure tick mark label fits\n",
    "y = industry.values[-10:]\n",
    "sns.barplot(x,y)"
   ]
  },
  {
   "cell_type": "markdown",
   "metadata": {},
   "source": [
    "#### Find the company employee size at the time it has the most employees"
   ]
  },
  {
   "cell_type": "markdown",
   "metadata": {},
   "source": [
    "#### Find the companies that have the most employees on record"
   ]
  },
  {
   "cell_type": "code",
   "execution_count": 67,
   "metadata": {},
   "outputs": [
    {
     "data": {
      "text/plain": [
       "<matplotlib.axes._subplots.AxesSubplot at 0x1a18dfc2b0>"
      ]
     },
     "execution_count": 67,
     "metadata": {},
     "output_type": "execute_result"
    },
    {
     "data": {
      "image/png": "[encoded data removed]",
      "text/plain": [
       "<Figure size 1274.4x595.44 with 1 Axes>"
      ]
     },
     "metadata": {},
     "output_type": "display_data"
    }
   ],
   "source": [
    "companies_size  = data.groupby('company_name')['employees_on_platform'].max().sort_values(ascending = True)\n",
    "x = companies_size.index.values[-10:]\n",
    "y = companies_size.values[-10:]\n",
    "sns.barplot(x,y)"
   ]
  },
  {
   "cell_type": "markdown",
   "metadata": {},
   "source": [
    "#### Find the difference of number of employees in all records for each company to infer growth "
   ]
  },
  {
   "cell_type": "code",
   "execution_count": 208,
   "metadata": {},
   "outputs": [
    {
     "data": {
      "text/plain": [
       "<matplotlib.axes._subplots.AxesSubplot at 0x1a5db6c240>"
      ]
     },
     "execution_count": 208,
     "metadata": {},
     "output_type": "execute_result"
    },
    {
     "data": {
      "image/png": "[encoded data removed]",
      "text/plain": [
       "<Figure size 1274.4x595.44 with 1 Axes>"
      ]
     },
     "metadata": {},
     "output_type": "display_data"
    }
   ],
   "source": [
    "companies_size_min  = data.groupby('company_name')['employees_on_platform'].min().sort_values(ascending = True)\n",
    "size_diff = companies_size - companies_size_min\n",
    "size_diff = size_diff.sort_values()\n",
    "x = size_diff.index.values[-10:]\n",
    "y = size_diff.values[-10:]\n",
    "sns.barplot(x,y)"
   ]
  },
  {
   "cell_type": "code",
   "execution_count": 213,
   "metadata": {},
   "outputs": [],
   "source": [
    "max_company = data[data.company_name.isin(x)].groupby('company_name')['employees_on_platform'].max()\n",
    "min_company = data[data.company_name.isin(x)].groupby('company_name')['employees_on_platform'].min()"
   ]
  },
  {
   "cell_type": "code",
   "execution_count": 240,
   "metadata": {},
   "outputs": [
    {
     "data": {
      "text/plain": [
       "<matplotlib.axes._subplots.AxesSubplot at 0x1a5ad77160>"
      ]
     },
     "execution_count": 240,
     "metadata": {},
     "output_type": "execute_result"
    },
    {
     "data": {
      "image/png": "[encoded data removed]",
      "text/plain": [
       "<Figure size 1274.4x595.44 with 1 Axes>"
      ]
     },
     "metadata": {},
     "output_type": "display_data"
    }
   ],
   "source": [
    "max_company.plot(kind=\"barh\", stacked=True)\n",
    "min_company.plot(kind=\"barh\", stacked=True, color ='lightgray')"
   ]
  },
  {
   "cell_type": "markdown",
   "metadata": {},
   "source": [
    "#### For each industry find the companies"
   ]
  },
  {
   "cell_type": "code",
   "execution_count": 1,
   "metadata": {},
   "outputs": [
    {
     "ename": "NameError",
     "evalue": "name 'data' is not defined",
     "output_type": "error",
     "traceback": [
      "\u001b[0;31m---------------------------------------------------------------------------\u001b[0m",
      "\u001b[0;31mNameError\u001b[0m                                 Traceback (most recent call last)",
      "\u001b[0;32m<ipython-input-1-a1d2a1741931>\u001b[0m in \u001b[0;36m<module>\u001b[0;34m\u001b[0m\n\u001b[0;32m----> 1\u001b[0;31m \u001b[0mindustry_companies\u001b[0m \u001b[0;34m=\u001b[0m \u001b[0mdata\u001b[0m\u001b[0;34m.\u001b[0m\u001b[0mgroupby\u001b[0m\u001b[0;34m(\u001b[0m\u001b[0;34m[\u001b[0m\u001b[0;34m'industry'\u001b[0m\u001b[0;34m,\u001b[0m\u001b[0;34m'company_name'\u001b[0m\u001b[0;34m]\u001b[0m\u001b[0;34m)\u001b[0m\u001b[0;34m.\u001b[0m\u001b[0mcount\u001b[0m\u001b[0;34m(\u001b[0m\u001b[0;34m)\u001b[0m\u001b[0;34m.\u001b[0m\u001b[0msort_values\u001b[0m\u001b[0;34m(\u001b[0m\u001b[0;34m'dataset_id'\u001b[0m\u001b[0;34m)\u001b[0m\u001b[0;34m.\u001b[0m\u001b[0mreset_index\u001b[0m\u001b[0;34m(\u001b[0m\u001b[0;34m)\u001b[0m\u001b[0;34m\u001b[0m\u001b[0;34m\u001b[0m\u001b[0m\n\u001b[0m\u001b[1;32m      2\u001b[0m \u001b[0mx\u001b[0m \u001b[0;34m=\u001b[0m \u001b[0mindustry_companies\u001b[0m\u001b[0;34m.\u001b[0m\u001b[0mindustry\u001b[0m\u001b[0;34m.\u001b[0m\u001b[0mvalues\u001b[0m\u001b[0;34m[\u001b[0m\u001b[0;34m-\u001b[0m\u001b[0;36m30\u001b[0m\u001b[0;34m:\u001b[0m\u001b[0;34m]\u001b[0m\u001b[0;34m\u001b[0m\u001b[0;34m\u001b[0m\u001b[0m\n\u001b[1;32m      3\u001b[0m \u001b[0mz\u001b[0m \u001b[0;34m=\u001b[0m \u001b[0mindustry_companies\u001b[0m\u001b[0;34m.\u001b[0m\u001b[0mcompany_name\u001b[0m\u001b[0;34m.\u001b[0m\u001b[0mvalues\u001b[0m\u001b[0;34m[\u001b[0m\u001b[0;34m-\u001b[0m\u001b[0;36m30\u001b[0m\u001b[0;34m:\u001b[0m\u001b[0;34m]\u001b[0m\u001b[0;34m\u001b[0m\u001b[0;34m\u001b[0m\u001b[0m\n\u001b[1;32m      4\u001b[0m \u001b[0my\u001b[0m \u001b[0;34m=\u001b[0m \u001b[0mindustry_companies\u001b[0m\u001b[0;34m.\u001b[0m\u001b[0mdataset_id\u001b[0m\u001b[0;34m.\u001b[0m\u001b[0mvalues\u001b[0m\u001b[0;34m[\u001b[0m\u001b[0;34m-\u001b[0m\u001b[0;36m30\u001b[0m\u001b[0;34m:\u001b[0m\u001b[0;34m]\u001b[0m\u001b[0;34m\u001b[0m\u001b[0;34m\u001b[0m\u001b[0m\n\u001b[1;32m      5\u001b[0m \u001b[0;31m#y = [z[0] for z in y]\u001b[0m\u001b[0;34m\u001b[0m\u001b[0;34m\u001b[0m\u001b[0;34m\u001b[0m\u001b[0m\n",
      "\u001b[0;31mNameError\u001b[0m: name 'data' is not defined"
     ]
    }
   ],
   "source": [
    "industry_companies = data.groupby(['industry','company_name']).count().sort_values('dataset_id').reset_index()\n",
    "x = industry_companies.industry.values[-30:]\n",
    "z = industry_companies.company_name.values[-30:]\n",
    "y = industry_companies.dataset_id.values[-30:]\n",
    "#y = [z[0] for z in y]"
   ]
  },
  {
   "cell_type": "code",
   "execution_count": 17,
   "metadata": {
    "scrolled": true
   },
   "outputs": [
    {
     "data": {
      "text/html": [
       "<div>\n",
       "<style scoped>\n",
       "    .dataframe tbody tr th:only-of-type {\n",
       "        vertical-align: middle;\n",
       "    }\n",
       "\n",
       "    .dataframe tbody tr th {\n",
       "        vertical-align: top;\n",
       "    }\n",
       "\n",
       "    .dataframe thead th {\n",
       "        text-align: right;\n",
       "    }\n",
       "</style>\n",
       "<table border=\"1\" class=\"dataframe\">\n",
       "  <thead>\n",
       "    <tr style=\"text-align: right;\">\n",
       "      <th></th>\n",
       "      <th>industry</th>\n",
       "      <th>company_name</th>\n",
       "      <th>dataset_id</th>\n",
       "      <th>as_of_date</th>\n",
       "      <th>followers_count</th>\n",
       "      <th>employees_on_platform</th>\n",
       "      <th>link</th>\n",
       "      <th>date_added</th>\n",
       "      <th>date_updated</th>\n",
       "      <th>description</th>\n",
       "      <th>website</th>\n",
       "      <th>entity_id</th>\n",
       "      <th>cusip</th>\n",
       "      <th>isin</th>\n",
       "    </tr>\n",
       "  </thead>\n",
       "  <tbody>\n",
       "    <tr>\n",
       "      <th>0</th>\n",
       "      <td>Oil &amp;amp; Energy</td>\n",
       "      <td>Parker Drilling Company</td>\n",
       "      <td>1</td>\n",
       "      <td>1</td>\n",
       "      <td>1</td>\n",
       "      <td>1</td>\n",
       "      <td>1</td>\n",
       "      <td>1</td>\n",
       "      <td>1</td>\n",
       "      <td>0</td>\n",
       "      <td>0</td>\n",
       "      <td>0</td>\n",
       "      <td>0</td>\n",
       "      <td>0</td>\n",
       "    </tr>\n",
       "    <tr>\n",
       "      <th>1</th>\n",
       "      <td>Mining &amp; Metals</td>\n",
       "      <td>Titan International, Inc.</td>\n",
       "      <td>1</td>\n",
       "      <td>1</td>\n",
       "      <td>1</td>\n",
       "      <td>1</td>\n",
       "      <td>1</td>\n",
       "      <td>1</td>\n",
       "      <td>1</td>\n",
       "      <td>0</td>\n",
       "      <td>1</td>\n",
       "      <td>0</td>\n",
       "      <td>0</td>\n",
       "      <td>0</td>\n",
       "    </tr>\n",
       "    <tr>\n",
       "      <th>2</th>\n",
       "      <td>Biotechnology</td>\n",
       "      <td>Wave Life Sciences Ltd.</td>\n",
       "      <td>1</td>\n",
       "      <td>1</td>\n",
       "      <td>1</td>\n",
       "      <td>1</td>\n",
       "      <td>1</td>\n",
       "      <td>1</td>\n",
       "      <td>1</td>\n",
       "      <td>1</td>\n",
       "      <td>0</td>\n",
       "      <td>0</td>\n",
       "      <td>0</td>\n",
       "      <td>0</td>\n",
       "    </tr>\n",
       "    <tr>\n",
       "      <th>3</th>\n",
       "      <td>Hospital &amp;amp; Health Care</td>\n",
       "      <td>Evident Health</td>\n",
       "      <td>1</td>\n",
       "      <td>1</td>\n",
       "      <td>1</td>\n",
       "      <td>1</td>\n",
       "      <td>1</td>\n",
       "      <td>1</td>\n",
       "      <td>1</td>\n",
       "      <td>0</td>\n",
       "      <td>0</td>\n",
       "      <td>0</td>\n",
       "      <td>0</td>\n",
       "      <td>0</td>\n",
       "    </tr>\n",
       "    <tr>\n",
       "      <th>4</th>\n",
       "      <td>Information Services</td>\n",
       "      <td>Nielsen Latinoamérica</td>\n",
       "      <td>1</td>\n",
       "      <td>1</td>\n",
       "      <td>1</td>\n",
       "      <td>1</td>\n",
       "      <td>1</td>\n",
       "      <td>1</td>\n",
       "      <td>1</td>\n",
       "      <td>0</td>\n",
       "      <td>0</td>\n",
       "      <td>0</td>\n",
       "      <td>0</td>\n",
       "      <td>0</td>\n",
       "    </tr>\n",
       "  </tbody>\n",
       "</table>\n",
       "</div>"
      ],
      "text/plain": [
       "                     industry               company_name  dataset_id  \\\n",
       "0            Oil &amp; Energy    Parker Drilling Company           1   \n",
       "1             Mining & Metals  Titan International, Inc.           1   \n",
       "2               Biotechnology    Wave Life Sciences Ltd.           1   \n",
       "3  Hospital &amp; Health Care             Evident Health           1   \n",
       "4        Information Services      Nielsen Latinoamérica           1   \n",
       "\n",
       "   as_of_date  followers_count  employees_on_platform  link  date_added  \\\n",
       "0           1                1                      1     1           1   \n",
       "1           1                1                      1     1           1   \n",
       "2           1                1                      1     1           1   \n",
       "3           1                1                      1     1           1   \n",
       "4           1                1                      1     1           1   \n",
       "\n",
       "   date_updated  description  website  entity_id  cusip  isin  \n",
       "0             1            0        0          0      0     0  \n",
       "1             1            0        1          0      0     0  \n",
       "2             1            1        0          0      0     0  \n",
       "3             1            0        0          0      0     0  \n",
       "4             1            0        0          0      0     0  "
      ]
     },
     "execution_count": 17,
     "metadata": {},
     "output_type": "execute_result"
    }
   ],
   "source": [
    "industry_companies.head()"
   ]
  },
  {
   "cell_type": "code",
   "execution_count": 196,
   "metadata": {},
   "outputs": [],
   "source": [
    "a = industry_companies.reset_index()\n",
    "a = a[a.industry.isin(x)]"
   ]
  },
  {
   "cell_type": "code",
   "execution_count": 197,
   "metadata": {},
   "outputs": [
    {
     "data": {
      "text/html": [
       "<div>\n",
       "<style scoped>\n",
       "    .dataframe tbody tr th:only-of-type {\n",
       "        vertical-align: middle;\n",
       "    }\n",
       "\n",
       "    .dataframe tbody tr th {\n",
       "        vertical-align: top;\n",
       "    }\n",
       "\n",
       "    .dataframe thead th {\n",
       "        text-align: right;\n",
       "    }\n",
       "</style>\n",
       "<table border=\"1\" class=\"dataframe\">\n",
       "  <thead>\n",
       "    <tr style=\"text-align: right;\">\n",
       "      <th></th>\n",
       "      <th>industry</th>\n",
       "      <th>company_name</th>\n",
       "      <th>dataset_id</th>\n",
       "      <th>as_of_date</th>\n",
       "      <th>followers_count</th>\n",
       "      <th>employees_on_platform</th>\n",
       "      <th>link</th>\n",
       "      <th>date_added</th>\n",
       "      <th>date_updated</th>\n",
       "      <th>description</th>\n",
       "      <th>website</th>\n",
       "      <th>entity_id</th>\n",
       "      <th>cusip</th>\n",
       "      <th>isin</th>\n",
       "    </tr>\n",
       "  </thead>\n",
       "  <tbody>\n",
       "  </tbody>\n",
       "</table>\n",
       "</div>"
      ],
      "text/plain": [
       "Empty DataFrame\n",
       "Columns: [industry, company_name, dataset_id, as_of_date, followers_count, employees_on_platform, link, date_added, date_updated, description, website, entity_id, cusip, isin]\n",
       "Index: []"
      ]
     },
     "execution_count": 197,
     "metadata": {},
     "output_type": "execute_result"
    }
   ],
   "source": [
    "a.sort_values(['industry','dataset_id']).nlargest(10,['dataset_id'])"
   ]
  },
  {
   "cell_type": "code",
   "execution_count": 206,
   "metadata": {},
   "outputs": [
    {
     "data": {
      "text/plain": [
       "<matplotlib.axes._subplots.AxesSubplot at 0x1a4ac24e80>"
      ]
     },
     "execution_count": 206,
     "metadata": {},
     "output_type": "execute_result"
    },
    {
     "data": {
      "image/png": "[encoded data removed]",
      "text/plain": [
       "<Figure size 1274.4x595.44 with 1 Axes>"
      ]
     },
     "metadata": {},
     "output_type": "display_data"
    }
   ],
   "source": [
    "sns.barplot(x,y)"
   ]
  },
  {
   "cell_type": "code",
   "execution_count": null,
   "metadata": {},
   "outputs": [],
   "source": []
  },
  {
   "cell_type": "code",
   "execution_count": null,
   "metadata": {},
   "outputs": [],
   "source": []
  },
  {
   "cell_type": "code",
   "execution_count": null,
   "metadata": {},
   "outputs": [],
   "source": []
  },
  {
   "cell_type": "code",
   "execution_count": null,
   "metadata": {},
   "outputs": [],
   "source": []
  },
  {
   "cell_type": "code",
   "execution_count": null,
   "metadata": {},
   "outputs": [],
   "source": []
  },
  {
   "cell_type": "code",
   "execution_count": null,
   "metadata": {},
   "outputs": [],
   "source": []
  },
  {
   "cell_type": "code",
   "execution_count": null,
   "metadata": {},
   "outputs": [],
   "source": []
  }
 ],
 "metadata": {
  "kernelspec": {
   "display_name": "Python 3",
   "language": "python",
   "name": "python3"
  },
  "language_info": {
   "codemirror_mode": {
    "name": "ipython",
    "version": 3
   },
   "file_extension": ".py",
   "mimetype": "text/x-python",
   "name": "python",
   "nbconvert_exporter": "python",
   "pygments_lexer": "ipython3",
   "version": "3.6.8"
  }
 },
 "nbformat": 4,
 "nbformat_minor": 2
}
